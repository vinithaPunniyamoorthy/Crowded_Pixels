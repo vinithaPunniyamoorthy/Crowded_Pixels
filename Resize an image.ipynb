{
 "cells": [
  {
   "cell_type": "code",
   "execution_count": null,
   "id": "62a945e6",
   "metadata": {},
   "outputs": [],
   "source": [
    "import cv2\n",
    "\n",
    "# Load the image\n",
    "image = cv2.imread('img_31.jpg')\n",
    "\n",
    "# Specify the new dimensions\n",
    "# Option 1: Directly specifying the new dimensions (width, height)\n",
    "new_width = 300\n",
    "new_height = 200\n",
    "resized_image = cv2.resize(image, (new_width, new_height))\n",
    "\n",
    "# Display the original and resized images\n",
    "cv2.imshow('Original Image', image)\n",
    "cv2.imshow('Resized Image', resized_image)\n",
    "\n",
    "# Wait for a key press and then close all windows\n",
    "cv2.waitKey(0)\n",
    "cv2.destroyAllWindows()"
   ]
  },
  {
   "cell_type": "code",
   "execution_count": null,
   "id": "07f7bc10",
   "metadata": {},
   "outputs": [],
   "source": [
    "import cv2\n",
    "\n",
    "# Load the image\n",
    "image = cv2.imread('img_31.jpg')\n",
    "\n",
    "# Option 2: Using a scaling factor\n",
    "scale_percent = 50  # Example: 50% of the original size\n",
    "width = int(image.shape[1] * scale_percent / 200)\n",
    "height = int(image.shape[0] * scale_percent / 200)\n",
    "resized_image = cv2.resize(image, (width, height))\n",
    "\n",
    "# Display the original and resized images\n",
    "cv2.imshow('Original Image', image)\n",
    "cv2.imshow('Resized Image', resized_image)\n",
    "\n",
    "# Wait for a key press and then close all windows\n",
    "cv2.waitKey(0)\n",
    "cv2.destroyAllWindows()\n"
   ]
  },
  {
   "cell_type": "code",
   "execution_count": null,
   "id": "a223a5bc",
   "metadata": {},
   "outputs": [],
   "source": []
  }
 ],
 "metadata": {
  "kernelspec": {
   "display_name": "Python 3 (ipykernel)",
   "language": "python",
   "name": "python3"
  },
  "language_info": {
   "codemirror_mode": {
    "name": "ipython",
    "version": 3
   },
   "file_extension": ".py",
   "mimetype": "text/x-python",
   "name": "python",
   "nbconvert_exporter": "python",
   "pygments_lexer": "ipython3",
   "version": "3.7.16"
  }
 },
 "nbformat": 4,
 "nbformat_minor": 5
}
