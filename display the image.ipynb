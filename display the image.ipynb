import cv2 		# Load an image 
img = cv2.imread('dog.jpg') 
print('Datatype:', img.dtype, '\nDimensions:', img.shape)
